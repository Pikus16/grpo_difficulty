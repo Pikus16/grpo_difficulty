{
 "cells": [
  {
   "cell_type": "code",
   "execution_count": 1,
   "metadata": {},
   "outputs": [],
   "source": [
    "import torch\n",
    "from transformers import AutoTokenizer, AutoModelForCausalLM\n",
    "from tqdm import tqdm\n",
    "import json\n",
    "import click\n",
    "import os\n",
    "import numpy as np\n",
    "from datasets import load_dataset\n",
    "\n",
    "def build_model_and_tokenizer(model_name, adapter_name=None, device: str = 'cuda'):\n",
    "    # 1) Load tokenizer & model\n",
    "    tokenizer = AutoTokenizer.from_pretrained(model_name, trust_remote_code=True)\n",
    "    model = (\n",
    "        AutoModelForCausalLM\n",
    "        .from_pretrained(model_name, trust_remote_code=True)\n",
    "        .to(device)\n",
    "    )\n",
    "    if adapter_name is not None:\n",
    "        model.load_adapter(adapter_name)\n",
    "    model.eval()\n",
    "\n",
    "    # 2) (Optional) Compile for speed if you're on PyTorch 2.x\n",
    "    if torch.backends.cuda.is_built():\n",
    "        try:\n",
    "            model = torch.compile(model)\n",
    "        except Exception:\n",
    "            pass\n",
    "\n",
    "    return model, tokenizer"
   ]
  },
  {
   "cell_type": "code",
   "execution_count": 2,
   "metadata": {},
   "outputs": [
    {
     "data": {
      "text/plain": [
       "{'id': 0,\n",
       " 'query': 'Where can I find live giveaways for beta access and games?',\n",
       " 'answers': '[{\"name\": \"live_giveaways_by_type\", \"arguments\": {\"type\": \"beta\"}}, {\"name\": \"live_giveaways_by_type\", \"arguments\": {\"type\": \"game\"}}]',\n",
       " 'tools': '[{\"name\": \"live_giveaways_by_type\", \"description\": \"Retrieve live giveaways from the GamerPower API based on the specified type.\", \"parameters\": {\"type\": {\"description\": \"The type of giveaways to retrieve (e.g., game, loot, beta).\", \"type\": \"str\", \"default\": \"game\"}}}]'}"
      ]
     },
     "execution_count": 2,
     "metadata": {},
     "output_type": "execute_result"
    }
   ],
   "source": [
    "dset = load_dataset(\"Salesforce/xlam-function-calling-60k\", split='train')\n",
    "dset[0]"
   ]
  },
  {
   "cell_type": "code",
   "execution_count": 3,
   "metadata": {},
   "outputs": [],
   "source": [
    "model, tokenizer = build_model_and_tokenizer('unsloth/Qwen3-4B-unsloth-bnb-4bit')"
   ]
  },
  {
   "cell_type": "code",
   "execution_count": 4,
   "metadata": {},
   "outputs": [
    {
     "name": "stdout",
     "output_type": "stream",
     "text": [
      "Where can I find live giveaways for beta access and games?\n"
     ]
    }
   ],
   "source": [
    "i = 0\n",
    "q = dset[i]['query']\n",
    "# inputs = format_question_qwen(questions, tokenizer)\n",
    "# batch_size = len(questions)\n",
    "\n",
    "# # Generate k samples in parallel\n",
    "# with torch.no_grad():\n",
    "#     out_ids = model.generate(\n",
    "#         input_ids=inputs[\"input_ids\"],\n",
    "#         attention_mask=inputs[\"attention_mask\"],\n",
    "#         do_sample=True,\n",
    "#         temperature=temperature,\n",
    "#         top_p=top_p,\n",
    "#         max_new_tokens=max_new_tokens,\n",
    "#         pad_token_id=tokenizer.eos_token_id,\n",
    "#         num_return_sequences=k,\n",
    "#         use_cache=True\n",
    "#     )\n",
    "print(q)"
   ]
  },
  {
   "cell_type": "code",
   "execution_count": 18,
   "metadata": {},
   "outputs": [
    {
     "name": "stdout",
     "output_type": "stream",
     "text": [
      "[BEGIN OF TASK INSTRUCTION]\n",
      "You are an expert in composing functions. You are given a question and a set of possible functions. \n",
      "Based on the question, you will need to make one or more function/tool calls to achieve the purpose. \n",
      "If none of the functions can be used, point it out and refuse to answer. \n",
      "If the given question lacks the parameters required by the function, also point it out.\n",
      "[END OF TASK INSTRUCTION]\n",
      "\n",
      "[BEGIN OF AVAILABLE TOOLS]\n",
      "[{\"name\": \"live_giveaways_by_type\", \"description\": \"Retrieve live giveaways from the GamerPower API based on the specified type.\", \"parameters\": {\"type\": {\"description\": \"The type of giveaways to retrieve (e.g., game, loot, beta).\", \"type\": \"str\", \"default\": \"game\"}}}]\n",
      "[END OF AVAILABLE TOOLS]\n",
      "\n",
      "[BEGIN OF FORMAT INSTRUCTION]\n",
      "Put your final answer in \\boxed{}. The final answer MUST strictly adhere to the following JSON format, and NO other text MUST be included.\n",
      "The example format is as follows. Please make sure the parameter type is correct. If no function call is needed, please make tool_calls an empty list '[]'.\n",
      "\\boxed{\n",
      "[\n",
      "    {\"name\": \"TOOL_NAME_1, \"arguments\" : {\"PARAMETER_NAME_1\" : \"VALUE_1\", .....}},\n",
      "    ....(more tool calls as required)\n",
      "]\n",
      "}\n",
      "[END OF FORMAT INSTRUCTION]\n",
      "\n",
      "[BEGIN OF QUERY]\n",
      "Where can I find live giveaways for beta access and games?\n",
      "[END OF QUERY]\n",
      "\n",
      "\n"
     ]
    }
   ],
   "source": [
    "# Please use our provided instruction prompt for best performance\n",
    "task_instruction = \"\"\"\n",
    "You are an expert in composing functions. You are given a question and a set of possible functions. \n",
    "Based on the question, you will need to make one or more function/tool calls to achieve the purpose. \n",
    "If none of the functions can be used, point it out and refuse to answer. \n",
    "If the given question lacks the parameters required by the function, also point it out.\n",
    "\"\"\".strip()\n",
    "\n",
    "format_instruction = \"\"\"\n",
    "Put your final answer in \\\\boxed{}. The final answer MUST strictly adhere to the following JSON format, and NO other text MUST be included.\n",
    "The example format is as follows. Please make sure the parameter type is correct. If no function call is needed, please make tool_calls an empty list '[]'.\n",
    "\\\\boxed{\n",
    "[\n",
    "    {\"name\": \"TOOL_NAME_1, \"arguments\" : {\"PARAMETER_NAME_1\" : \"VALUE_1\", .....}},\n",
    "    ....(more tool calls as required)\n",
    "]\n",
    "}\n",
    "\"\"\".strip()\n",
    "\n",
    "# Helper function to build the input prompt for our model\n",
    "def build_prompt(tools: list, query: str):\n",
    "    prompt = f\"[BEGIN OF TASK INSTRUCTION]\\n{task_instruction}\\n[END OF TASK INSTRUCTION]\\n\\n\"\n",
    "    prompt += f\"[BEGIN OF AVAILABLE TOOLS]\\n{tools}\\n[END OF AVAILABLE TOOLS]\\n\\n\"\n",
    "    prompt += f\"[BEGIN OF FORMAT INSTRUCTION]\\n{format_instruction}\\n[END OF FORMAT INSTRUCTION]\\n\\n\"\n",
    "    prompt += f\"[BEGIN OF QUERY]\\n{query}\\n[END OF QUERY]\\n\\n\"\n",
    "    return prompt\n",
    "\n",
    "# [{\"name\": \"live_giveaways_by_type\", \"arguments\": {\"type\": \"beta\"}}, {\"name\": \"live_giveaways_by_type\", \"arguments\": {\"type\": \"game\"}}]\n",
    "\n",
    "i = 0\n",
    "q = dset[i]['query']\n",
    "answer = dset[i]['answers']\n",
    "prompt = build_prompt(dset[i]['tools'], q)\n",
    "print(prompt)"
   ]
  },
  {
   "cell_type": "code",
   "execution_count": 19,
   "metadata": {},
   "outputs": [
    {
     "name": "stdout",
     "output_type": "stream",
     "text": [
      "\\boxed{\n",
      "[\n",
      "    {\"name\": \"live_giveaways_by_type\", \"arguments\" : {\"type\" : \"beta\"}},\n",
      "    {\"name\": \"live_giveaways_by_type\", \"arguments\" : {\"type\" : \"game\"}}\n",
      "]\n",
      "}\n"
     ]
    }
   ],
   "source": [
    "formatted_prompt = tokenizer.apply_chat_template(\n",
    "    [{'role': 'user', 'content': prompt}],\n",
    "    tokenize=False, add_generation_prompt=True, enable_thinking=False\n",
    ")\n",
    "\n",
    "inputs = tokenizer(formatted_prompt, return_tensors=\"pt\", padding=True, truncation=True).to('cuda')\n",
    "\n",
    "\n",
    "# Generate k samples in parallel\n",
    "with torch.no_grad():\n",
    "    out_ids = model.generate(\n",
    "        input_ids=inputs[\"input_ids\"],\n",
    "        attention_mask=inputs[\"attention_mask\"],\n",
    "        do_sample=True,\n",
    "        pad_token_id=tokenizer.eos_token_id,\n",
    "        use_cache=True\n",
    "    )\n",
    "decoded = tokenizer.batch_decode(out_ids[:, len(inputs.input_ids[0]):], skip_special_tokens=True)[0]\n",
    "print(decoded)"
   ]
  },
  {
   "cell_type": "code",
   "execution_count": 14,
   "metadata": {},
   "outputs": [
    {
     "name": "stdout",
     "output_type": "stream",
     "text": [
      "[{\"name\": \"live_giveaways_by_type\", \"arguments\": {\"type\": \"beta\"}}, {\"name\": \"live_giveaways_by_type\", \"arguments\": {\"type\": \"game\"}}]\n"
     ]
    }
   ],
   "source": [
    "print(answer)"
   ]
  },
  {
   "cell_type": "code",
   "execution_count": null,
   "metadata": {},
   "outputs": [],
   "source": []
  }
 ],
 "metadata": {
  "kernelspec": {
   "display_name": "run",
   "language": "python",
   "name": "python3"
  },
  "language_info": {
   "codemirror_mode": {
    "name": "ipython",
    "version": 3
   },
   "file_extension": ".py",
   "mimetype": "text/x-python",
   "name": "python",
   "nbconvert_exporter": "python",
   "pygments_lexer": "ipython3",
   "version": "3.10.18"
  }
 },
 "nbformat": 4,
 "nbformat_minor": 2
}
