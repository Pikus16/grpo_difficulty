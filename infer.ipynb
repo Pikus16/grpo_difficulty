{
 "cells": [
  {
   "cell_type": "code",
   "execution_count": 26,
   "metadata": {},
   "outputs": [],
   "source": [
    "from unsloth import FastLanguageModel\n",
    "import torch\n",
    "from tqdm import tqdm\n",
    "import json"
   ]
  },
  {
   "cell_type": "code",
   "execution_count": null,
   "metadata": {},
   "outputs": [],
   "source": [
    "model_name = \"unsloth/Meta-Llama-3.1-8B-Instruct-bnb-4bit\"\n",
    "\n",
    "max_seq_length = 2048 # Choose any! We auto support RoPE Scaling internally!\n",
    "dtype = None # None for auto detection. Float16 for Tesla T4, V100, Bfloat16 for Ampere+\n",
    "load_in_4bit = True # Use 4bit quantization to reduce memory usage. Can be False.\n",
    "\n",
    "model, tokenizer = FastLanguageModel.from_pretrained(\n",
    "    model_name = model_name,\n",
    "    max_seq_length = max_seq_length,\n",
    "    dtype = dtype,\n",
    "    load_in_4bit = load_in_4bit,\n",
    "    # token = \"hf_...\", # use one if using gated models like meta-llama/Llama-2-7b-hf\n",
    ")\n",
    "_ = FastLanguageModel.for_inference(model) # Enable native 2x faster inference"
   ]
  },
  {
   "cell_type": "code",
   "execution_count": 19,
   "metadata": {},
   "outputs": [],
   "source": [
    "generation_kwargs = {\n",
    "    \"max_new_tokens\": 250,\n",
    "    \"use_cache\": True,\n",
    "    \"temperature\": 0.9,\n",
    "    \"top_k\": None,\n",
    "    \"do_sample\": True,\n",
    "}\n",
    "\n",
    "NUM_TIMES_TO_GEN = 100\n",
    "BATCH_SIZE = 4"
   ]
  },
  {
   "cell_type": "code",
   "execution_count": 24,
   "metadata": {},
   "outputs": [
    {
     "name": "stderr",
     "output_type": "stream",
     "text": [
      "  0%|          | 0/25 [00:00<?, ?it/s]"
     ]
    }
   ],
   "source": [
    "prompt = \"\"\"Implement a Python function `is_prime(n)` that takes an integer `n ≥ 2` and returns True if `n` is prime and False otherwise.\"\"\"\n",
    "formatted_prompt = tokenizer.apply_chat_template(\n",
    "    [{'role': 'user', 'content': prompt}],\n",
    "    tokenize=False, add_generation_prompt=True)\n",
    "inputs = tokenizer(\n",
    "[\n",
    "    formatted_prompt\n",
    "]*BATCH_SIZE, return_tensors = \"pt\").to(\"cuda\")\n",
    "\n",
    "all_outputs = []\n",
    "for _ in tqdm(range(0, NUM_TIMES_TO_GEN, BATCH_SIZE)):\n",
    "    outputs = model.generate(**inputs, **generation_kwargs)\n",
    "    output = tokenizer.batch_decode(outputs)\n",
    "    outputs = outputs[:, inputs.input_ids.shape[1]:]\n",
    "    output = tokenizer.batch_decode(outputs)\n",
    "    all_outputs.extend(output)"
   ]
  },
  {
   "cell_type": "code",
   "execution_count": null,
   "metadata": {},
   "outputs": [],
   "source": [
    "with open('outputs/prime.json', 'w') as f:\n",
    "    json.dump({'prompt': prompt, 'outputs': all_outputs}, f)"
   ]
  },
  {
   "cell_type": "code",
   "execution_count": null,
   "metadata": {},
   "outputs": [],
   "source": []
  }
 ],
 "metadata": {
  "kernelspec": {
   "display_name": "run",
   "language": "python",
   "name": "python3"
  },
  "language_info": {
   "codemirror_mode": {
    "name": "ipython",
    "version": 3
   },
   "file_extension": ".py",
   "mimetype": "text/x-python",
   "name": "python",
   "nbconvert_exporter": "python",
   "pygments_lexer": "ipython3",
   "version": "3.10.16"
  }
 },
 "nbformat": 4,
 "nbformat_minor": 2
}
